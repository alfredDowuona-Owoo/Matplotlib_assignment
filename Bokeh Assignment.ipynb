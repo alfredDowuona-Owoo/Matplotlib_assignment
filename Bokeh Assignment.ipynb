{
 "cells": [
  {
   "cell_type": "markdown",
   "id": "4c13679a",
   "metadata": {},
   "source": [
    "#### Q1. How can you create a Bokeh plot using Python code?"
   ]
  },
  {
   "cell_type": "markdown",
   "id": "908098e5",
   "metadata": {},
   "source": [
    " - Import the necessary libraries:\n",
    "\n",
    " - Create a Bokeh figure and  Use the figure function to create a figure object.\n",
    "\n",
    "\n",
    " -  Add glyphs to the figure: Glyphs are graphical marks on the plot, like circles, lines, bars, or patches\n",
    "\n",
    " - Customize the plot, You can further customize your plot with various attributes like line width, colors, fill colors, and more.\n",
    " \n",
    " - Show the plot,Finally, call the show function to display the plot in your web browser."
   ]
  },
  {
   "cell_type": "markdown",
   "id": "91f4b9d4",
   "metadata": {},
   "source": [
    "#### Q2. What are glyphs in Bokeh, and how can you add them to a Bokeh plot? Explain with an example."
   ]
  },
  {
   "cell_type": "markdown",
   "id": "dc9cf538",
   "metadata": {},
   "source": [
    " - Glyphs are graphical marks on the plot, like circles, lines, bars, or patches. You can add them using the respective Bokeh functions such as circle, line, or vbar.\n",
    " \n",
    " p.circle(x, y, size=10, color=\"navy\", alpha=0.5)\n"
   ]
  },
  {
   "cell_type": "markdown",
   "id": "5c98b813",
   "metadata": {},
   "source": [
    "#### Q3. How can you customize the appearance of a Bokeh plot, including the axes, title, and legend?"
   ]
  },
  {
   "cell_type": "markdown",
   "id": "5a05fdb6",
   "metadata": {},
   "source": [
    " - You can customize your plot with various attributes like line width, colors, fill colors, and more."
   ]
  },
  {
   "cell_type": "markdown",
   "id": "d3300d04",
   "metadata": {},
   "source": [
    "#### Q4. What is a Bokeh server, and how can you use it to create interactive plots that can be updated in real time?"
   ]
  },
  {
   "cell_type": "markdown",
   "id": "de3bdb80",
   "metadata": {},
   "source": [
    " - A Bokeh server is a feature of the Bokeh library that allows you to create interactive data-driven web applications with real-time updates. It enables you to build interactive plots, dashboards, and applications that can be hosted and accessed through a web browser. Bokeh server applications are typically written in Python and use Bokeh to define and update the interactive elements."
   ]
  },
  {
   "cell_type": "markdown",
   "id": "236ce6c0",
   "metadata": {},
   "source": [
    "#### Q5. How can you embed a Bokeh plot into a web page or dashboard using Flask or Django?"
   ]
  },
  {
   "cell_type": "markdown",
   "id": "6f4fba16",
   "metadata": {},
   "source": [
    "\n",
    "- Install Flask and Bokeh:\n",
    "\n",
    "Make sure you have Flask and Bokeh installed in your Python environment.\n",
    "\n",
    "- Create a Flask Application:\n",
    "\n",
    "Set up a Flask application with the necessary routes and templates.\n",
    "\n",
    "- Create a Template:\n",
    "\n",
    "Create an HTML template for your web page that will display the Bokeh plot. You can use Flask's url_for function to generate the URL for the Bokeh plot.\n",
    "\n",
    " - Generate the Bokeh Plot:\n",
    "\n",
    "Create your Bokeh plot using Bokeh's plotting library and save it as a JavaScript file.\n",
    "\n",
    "- Run the Flask Application:\n",
    "\n",
    "Run your Flask application to serve the web page with the embedded Bokeh plot.\n"
   ]
  },
  {
   "cell_type": "code",
   "execution_count": null,
   "id": "e06a60bc",
   "metadata": {},
   "outputs": [],
   "source": []
  },
  {
   "cell_type": "code",
   "execution_count": null,
   "id": "5d9d3a5a",
   "metadata": {},
   "outputs": [],
   "source": []
  },
  {
   "cell_type": "code",
   "execution_count": null,
   "id": "9142fc9c",
   "metadata": {},
   "outputs": [],
   "source": []
  },
  {
   "cell_type": "code",
   "execution_count": null,
   "id": "8da14cdb",
   "metadata": {},
   "outputs": [],
   "source": []
  },
  {
   "cell_type": "code",
   "execution_count": null,
   "id": "0810efc7",
   "metadata": {},
   "outputs": [],
   "source": []
  },
  {
   "cell_type": "code",
   "execution_count": null,
   "id": "302f9199",
   "metadata": {},
   "outputs": [],
   "source": []
  },
  {
   "cell_type": "code",
   "execution_count": null,
   "id": "298f258c",
   "metadata": {},
   "outputs": [],
   "source": []
  },
  {
   "cell_type": "code",
   "execution_count": null,
   "id": "8b797c84",
   "metadata": {},
   "outputs": [],
   "source": []
  },
  {
   "cell_type": "code",
   "execution_count": null,
   "id": "062462a5",
   "metadata": {},
   "outputs": [],
   "source": []
  },
  {
   "cell_type": "code",
   "execution_count": null,
   "id": "3aad0c58",
   "metadata": {},
   "outputs": [],
   "source": []
  },
  {
   "cell_type": "code",
   "execution_count": null,
   "id": "bd642377",
   "metadata": {},
   "outputs": [],
   "source": []
  },
  {
   "cell_type": "code",
   "execution_count": null,
   "id": "6d346244",
   "metadata": {},
   "outputs": [],
   "source": []
  },
  {
   "cell_type": "code",
   "execution_count": null,
   "id": "a524d37a",
   "metadata": {},
   "outputs": [],
   "source": []
  },
  {
   "cell_type": "code",
   "execution_count": null,
   "id": "79a8bec9",
   "metadata": {},
   "outputs": [],
   "source": []
  },
  {
   "cell_type": "code",
   "execution_count": null,
   "id": "199cad0b",
   "metadata": {},
   "outputs": [],
   "source": []
  },
  {
   "cell_type": "code",
   "execution_count": null,
   "id": "60f18930",
   "metadata": {},
   "outputs": [],
   "source": []
  }
 ],
 "metadata": {
  "kernelspec": {
   "display_name": "Python 3 (ipykernel)",
   "language": "python",
   "name": "python3"
  },
  "language_info": {
   "codemirror_mode": {
    "name": "ipython",
    "version": 3
   },
   "file_extension": ".py",
   "mimetype": "text/x-python",
   "name": "python",
   "nbconvert_exporter": "python",
   "pygments_lexer": "ipython3",
   "version": "3.9.13"
  }
 },
 "nbformat": 4,
 "nbformat_minor": 5
}
